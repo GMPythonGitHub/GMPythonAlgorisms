{
 "cells": [
  {
   "cell_type": "code",
   "execution_count": 1,
   "metadata": {
    "ExecuteTime": {
     "start_time": "2023-04-25T06:47:03.957387Z",
     "end_time": "2023-04-25T06:47:03.971379Z"
    }
   },
   "outputs": [],
   "source": [
    "# Fizz Buzz Problem\n",
    "# -------------------------------------------------------\n",
    "# consider the numbers from 1 to a certain number\n",
    "# replace any numbers divisible by three with the word 'Fizz'\n",
    "# replace any numbers divisible by five with the word 'Buzz'\n",
    "# replace any numbers divisible by both three and five with the word 'FizzBuzz'"
   ]
  },
  {
   "cell_type": "code",
   "execution_count": 2,
   "metadata": {
    "ExecuteTime": {
     "start_time": "2023-04-25T06:47:07.434672Z",
     "end_time": "2023-04-25T06:47:07.442253Z"
    }
   },
   "outputs": [
    {
     "name": "stdout",
     "output_type": "stream",
     "text": [
      "1 2 Fizz 4 Buzz Fizz 7 8 Fizz Buzz 11 Fizz 13 14 FizzBuzz 16 17 Fizz 19 Buzz Fizz 22 23 Fizz Buzz 26 Fizz 28 29 FizzBuzz "
     ]
    }
   ],
   "source": [
    "# ** 'for loop' and 'if statement' **\n",
    "for i in range(1,31):\n",
    "    if i%3 == 0 and i%5 == 0: print('FizzBuzz', end=' ')\n",
    "    elif i%3 == 0: print('Fizz', end=' ')\n",
    "    elif i%5 == 0: print('Buzz', end=' ')\n",
    "    else: print(i, end=' ')"
   ]
  },
  {
   "cell_type": "code",
   "execution_count": 3,
   "metadata": {
    "ExecuteTime": {
     "start_time": "2023-04-25T06:47:12.177050Z",
     "end_time": "2023-04-25T06:47:12.184072Z"
    }
   },
   "outputs": [
    {
     "name": "stdout",
     "output_type": "stream",
     "text": [
      "1 2 Fizz 4 Buzz Fizz 7 8 Fizz Buzz 11 Fizz 13 14 FizzBuzz 16 17 Fizz 19 Buzz Fizz 22 23 Fizz Buzz 26 Fizz 28 29 FizzBuzz "
     ]
    }
   ],
   "source": [
    "# ** 'while loop' and 'if statement' **\n",
    "i = 1 \n",
    "while i <= 30:\n",
    "    strg = ''\n",
    "    if i%3==0: strg += 'Fizz'\n",
    "    if i%5==0: strg += 'Buzz'\n",
    "    if strg == '':\n",
    "        print(str(i), end=' ')\n",
    "    else: \n",
    "        print(strg, end=' ')\n",
    "    i += 1"
   ]
  },
  {
   "cell_type": "code",
   "execution_count": 4,
   "metadata": {
    "ExecuteTime": {
     "start_time": "2023-04-25T06:47:22.424941Z",
     "end_time": "2023-04-25T06:47:22.430550Z"
    }
   },
   "outputs": [
    {
     "name": "stdout",
     "output_type": "stream",
     "text": [
      "1 2 Fizz 4 Buzz Fizz 7 8 Fizz Buzz 11 Fizz 13 14 Fizzbuzz 16 17 Fizz 19 Buzz Fizz 22 23 Fizz Buzz 26 Fizz 28 29 Fizzbuzz "
     ]
    }
   ],
   "source": [
    "# ** generator **\n",
    "def fizzbuzzgene(numberRange):\n",
    "    for number in numberRange:\n",
    "        if number % 15 == 0: yield 'Fizzbuzz'\n",
    "        elif number % 3 == 0: yield 'Fizz'\n",
    "        elif number % 5 == 0: yield 'Buzz'\n",
    "        else: yield number\n",
    "if __name__ == '__main__':\n",
    "    for fizzbuzz in fizzbuzzgene(range(1,31)):\n",
    "        print(fizzbuzz,end=' ')\n"
   ]
  },
  {
   "cell_type": "code",
   "execution_count": 3,
   "metadata": {
    "ExecuteTime": {
     "start_time": "2023-04-26T04:13:04.323688Z",
     "end_time": "2023-04-26T04:13:04.340709Z"
    }
   },
   "outputs": [
    {
     "name": "stdout",
     "output_type": "stream",
     "text": [
      "1 2 Fizz 4 Buzz Fizz 7 8 Fizz Buzz 11 Fizz 13 14 FizzBuzz 16 17 Fizz 19 Buzz Fizz 22 23 Fizz Buzz 26 Fizz 28 29 FizzBuzz "
     ]
    }
   ],
   "source": [
    "# ** oneliner: connecting 'string'  **\n",
    "for i in range(31): print(i%3//2*'Fizz'+i%5//4*'Buzz' or i+1, end=' ')"
   ]
  },
  {
   "cell_type": "code",
   "execution_count": 4,
   "metadata": {
    "ExecuteTime": {
     "start_time": "2023-04-26T04:13:24.960955Z",
     "end_time": "2023-04-26T04:13:24.983787Z"
    }
   },
   "outputs": [
    {
     "name": "stdout",
     "output_type": "stream",
     "text": [
      "1 2 Fizz 4 Buzz Fizz 7 8 Fizz Buzz 11 Fizz 13 14 FizzBuzz 16 17 Fizz 19 Buzz Fizz 22 23 Fizz Buzz 26 Fizz 28 29 FizzBuzz "
     ]
    }
   ],
   "source": [
    "# ** oneliner: slicing 'string' **\n",
    "for i in range(0,31): print('FizzBuzz'[0 if i%3//2 else 4:8 if i%5//4 else 4] or i+1, end=' ')"
   ]
  },
  {
   "cell_type": "code",
   "execution_count": null,
   "outputs": [],
   "source": [],
   "metadata": {
    "collapsed": false
   }
  }
 ],
 "metadata": {
  "kernelspec": {
   "display_name": "Python 3",
   "language": "python",
   "name": "python3"
  },
  "language_info": {
   "codemirror_mode": {
    "name": "ipython",
    "version": 3
   },
   "file_extension": ".py",
   "mimetype": "text/x-python",
   "name": "python",
   "nbconvert_exporter": "python",
   "pygments_lexer": "ipython3",
   "version": "3.8.2"
  },
  "orig_nbformat": 4,
  "vscode": {
   "interpreter": {
    "hash": "70fa74f63934a4ecdf5872d5d8e2fa97c7f849c70d60a9876d559151d2cd53ca"
   }
  }
 },
 "nbformat": 4,
 "nbformat_minor": 2
}
